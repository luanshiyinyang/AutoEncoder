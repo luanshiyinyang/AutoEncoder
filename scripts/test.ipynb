{
 "cells": [
  {
   "cell_type": "code",
   "execution_count": 1,
   "metadata": {},
   "outputs": [
    {
     "name": "stderr",
     "output_type": "stream",
     "text": [
      "Using TensorFlow backend.\n"
     ]
    }
   ],
   "source": [
    "from sklearn.decomposition import PCA\n",
    "from sklearn.svm import SVC\n",
    "from data_generator import MNIST\n",
    "from AutoEncoder import AutoEncoder\n",
    "from sklearn.metrics import accuracy_score\n",
    "from model import get_model\n",
    "from sklearn.model_selection import train_test_split\n"
   ]
  },
  {
   "cell_type": "code",
   "execution_count": 2,
   "metadata": {},
   "outputs": [],
   "source": [
    "mnist = MNIST('../data/MNIST')\n",
    "x_train, y_train = mnist.get_train_data()\n",
    "x_train = x_train / 255.\n",
    "x_test, y_test = mnist.get_test_data()\n",
    "x_test = x_test / 255.\n",
    "\n",
    "x_train, x_t, y_train, y_t = train_test_split(x_train, y_train, test_size=0, random_state=2019)  # 打乱数据\n",
    "x_test, x_t, y_test, y_t = train_test_split(x_test, y_test, test_size=0, random_state=2019)"
   ]
  },
  {
   "cell_type": "code",
   "execution_count": 3,
   "metadata": {},
   "outputs": [
    {
     "name": "stdout",
     "output_type": "stream",
     "text": [
      "(60000, 28, 28) (10000, 28, 28)\n"
     ]
    }
   ],
   "source": [
    "print(x_train.shape, x_test.shape)"
   ]
  },
  {
   "cell_type": "code",
   "execution_count": 21,
   "metadata": {},
   "outputs": [],
   "source": [
    "def test_pca(x, y, x_test, y_test):\n",
    "    \"\"\"\n",
    "    :param x\n",
    "    :param y\n",
    "    :param x_test\n",
    "    :param y_test\n",
    "    :return:\n",
    "    \"\"\"\n",
    "    x = x.reshape(x.shape[0], -1)\n",
    "    x_test = x_test.reshape(x_test.shape[0], -1)\n",
    "    \n",
    "    rst = []\n",
    "    for k in range(1, 100, 1):\n",
    "        # 构建并训练pca\n",
    "        pca = PCA(n_components=k)\n",
    "        pca.fit(x)\n",
    "        \n",
    "        x_svm_train = x_test[:2500].copy()\n",
    "        y_svm_train = y_test[:2500].copy()\n",
    "        x_svm_test = x_test[2500:].copy()\n",
    "        y_svm_test = y_test[2500:].copy()\n",
    "        # 建立分类器\n",
    "        svc = SVC(gamma='scale')\n",
    "        # 训练分类器\n",
    "        svc.fit(pca.transform(x_svm_train), y_svm_train)\n",
    "        # 使用分类器\n",
    "        y_pred = svc.predict(pca.transform(x_svm_test))\n",
    "        print(accuracy_score(y_svm_test, y_pred))\n",
    "        rst.append(accuracy_score(y_svm_test, y_pred))\n",
    "    return rst"
   ]
  },
  {
   "cell_type": "code",
   "execution_count": 22,
   "metadata": {
    "scrolled": true
   },
   "outputs": [
    {
     "name": "stdout",
     "output_type": "stream",
     "text": [
      "0.3108\n",
      "0.4676\n",
      "0.5124\n",
      "0.65\n",
      "0.7588\n",
      "0.82\n",
      "0.8548\n",
      "0.876\n",
      "0.8848\n",
      "0.8984\n",
      "0.9072\n",
      "0.9188\n",
      "0.9232\n",
      "0.9304\n",
      "0.932\n",
      "0.9348\n",
      "0.9368\n",
      "0.938\n",
      "0.9436\n",
      "0.9432\n",
      "0.9444\n",
      "0.9464\n",
      "0.948\n",
      "0.9484\n",
      "0.9484\n",
      "0.9492\n",
      "0.9488\n",
      "0.948\n",
      "0.9468\n",
      "0.9464\n",
      "0.948\n",
      "0.9492\n",
      "0.9488\n",
      "0.9496\n",
      "0.9512\n",
      "0.9496\n",
      "0.9508\n",
      "0.9512\n",
      "0.9516\n",
      "0.9516\n",
      "0.9524\n",
      "0.952\n",
      "0.9524\n",
      "0.952\n",
      "0.9516\n",
      "0.9516\n",
      "0.9516\n",
      "0.9512\n",
      "0.9524\n",
      "0.9516\n",
      "0.9512\n",
      "0.9516\n",
      "0.9512\n",
      "0.9516\n",
      "0.9508\n",
      "0.9516\n",
      "0.9532\n",
      "0.9532\n",
      "0.9532\n",
      "0.9532\n",
      "0.9528\n",
      "0.9528\n",
      "0.9532\n",
      "0.9536\n",
      "0.9524\n",
      "0.9528\n",
      "0.9532\n",
      "0.9532\n",
      "0.9532\n",
      "0.9536\n",
      "0.9536\n",
      "0.9536\n",
      "0.954\n",
      "0.954\n",
      "0.9528\n",
      "0.9524\n",
      "0.9524\n",
      "0.9512\n",
      "0.952\n",
      "0.9516\n",
      "0.952\n",
      "0.9512\n",
      "0.9512\n",
      "0.9512\n",
      "0.9516\n",
      "0.9512\n",
      "0.9512\n",
      "0.9516\n",
      "0.9516\n",
      "0.9512\n",
      "0.9512\n",
      "0.9516\n",
      "0.9508\n",
      "0.9516\n",
      "0.9512\n",
      "0.9508\n",
      "0.9516\n",
      "0.9508\n",
      "0.9512\n"
     ]
    }
   ],
   "source": [
    "his1 = test_pca(x_train[:10000], y_train[:10000], x_test[:5000], y_test[:5000])"
   ]
  },
  {
   "cell_type": "code",
   "execution_count": null,
   "metadata": {},
   "outputs": [],
   "source": [
    "import matplotlib.pyplot as plt\n",
    "plt.plot([i for i in range(len(his1))], his1, color='black')\n",
    "plt.xlabel('target dimension')\n",
    "plt.ylabel('accuracy')\n",
    "plt.savefig('pca_mnist.png')"
   ]
  },
  {
   "cell_type": "code",
   "execution_count": 7,
   "metadata": {},
   "outputs": [],
   "source": [
    "def test_ae(x, y, x_test, y_test):\n",
    "    \"\"\"\n",
    "    AE测试\n",
    "    :param x:\n",
    "    :param y:\n",
    "    :param x_test:\n",
    "    :param y_test:\n",
    "    :return:\n",
    "    \"\"\"\n",
    "    x = x.reshape(x.shape[0], -1)\n",
    "    x_test = x_test.reshape(x_test.shape[0], -1)\n",
    "\n",
    "    rst = []\n",
    "    for k in range(1, 100, 1):\n",
    "        # 构建并训练ae\n",
    "        ae, encoder = get_model(k)\n",
    "        ae.fit(x, x, epochs=20, shuffle=False, verbose=0)\n",
    "        \n",
    "        x_svm_train = x_test[:2500].copy()\n",
    "        y_svm_train = y_test[:2500].copy()\n",
    "        x_svm_test = x_test[2500:].copy()\n",
    "        y_svm_test = y_test[2500:].copy()\n",
    "        # 建立分类器\n",
    "        svc = SVC(gamma='scale')\n",
    "        # 训练分类器\n",
    "        svc.fit(encoder.predict(x_svm_train), y_svm_train)\n",
    "        # 使用分类器\n",
    "        y_pred = svc.predict(encoder.predict(x_svm_test))\n",
    "        print(accuracy_score(y_svm_test, y_pred))\n",
    "        rst.append(accuracy_score(y_svm_test, y_pred))\n",
    "    return rst"
   ]
  },
  {
   "cell_type": "code",
   "execution_count": 8,
   "metadata": {
    "scrolled": true
   },
   "outputs": [
    {
     "name": "stdout",
     "output_type": "stream",
     "text": [
      "0.2864\n",
      "0.4644\n",
      "0.5416\n",
      "0.6844\n",
      "0.7684\n",
      "0.798\n",
      "0.8264\n",
      "0.852\n",
      "0.8752\n",
      "0.8784\n",
      "0.8996\n",
      "0.9076\n",
      "0.9064\n",
      "0.9184\n",
      "0.9168\n",
      "0.9272\n",
      "0.926\n",
      "0.9356\n",
      "0.9316\n",
      "0.9296\n",
      "0.9428\n",
      "0.9404\n",
      "0.9364\n",
      "0.944\n",
      "0.9376\n",
      "0.9392\n",
      "0.9472\n",
      "0.9432\n",
      "0.9388\n",
      "0.9392\n",
      "0.9464\n",
      "0.9436\n",
      "0.9464\n",
      "0.9424\n",
      "0.9396\n",
      "0.946\n",
      "0.944\n",
      "0.9484\n",
      "0.9452\n",
      "0.9444\n",
      "0.9508\n",
      "0.9452\n",
      "0.944\n",
      "0.9404\n",
      "0.946\n",
      "0.9536\n",
      "0.9496\n",
      "0.946\n",
      "0.946\n",
      "0.9504\n",
      "0.9488\n",
      "0.9504\n",
      "0.9516\n",
      "0.9468\n",
      "0.948\n",
      "0.9508\n",
      "0.948\n",
      "0.9476\n",
      "0.9492\n",
      "0.9484\n",
      "0.9476\n",
      "0.946\n",
      "0.9488\n",
      "0.9504\n",
      "0.9472\n",
      "0.9504\n",
      "0.9508\n",
      "0.9448\n",
      "0.9524\n",
      "0.946\n",
      "0.9512\n",
      "0.9472\n",
      "0.9468\n",
      "0.9492\n",
      "0.95\n",
      "0.948\n",
      "0.9508\n",
      "0.9484\n",
      "0.9476\n",
      "0.9524\n",
      "0.9484\n",
      "0.9504\n",
      "0.9504\n",
      "0.9472\n",
      "0.9536\n",
      "0.9468\n",
      "0.948\n",
      "0.9464\n",
      "0.9484\n",
      "0.9512\n",
      "0.9508\n",
      "0.948\n",
      "0.9536\n",
      "0.95\n",
      "0.9516\n",
      "0.9488\n",
      "0.9488\n",
      "0.9512\n",
      "0.95\n"
     ]
    }
   ],
   "source": [
    "his2 = test_ae(x_train[:10000], y_train[:10000], x_test[:5000], y_test[:5000])"
   ]
  },
  {
   "cell_type": "code",
   "execution_count": 9,
   "metadata": {},
   "outputs": [
    {
     "data": {
      "image/png": "[encoded data removed]",
      "text/plain": [
       "<Figure size 432x288 with 1 Axes>"
      ]
     },
     "metadata": {
      "needs_background": "light"
     },
     "output_type": "display_data"
    }
   ],
   "source": [
    "import matplotlib.pyplot as plt\n",
    "plt.plot([i for i in range(len(his2))], his2, color='black')\n",
    "plt.xlabel('target dimension')\n",
    "plt.ylabel('accuracy')\n",
    "plt.savefig('ae_mnist.png')"
   ]
  }
 ],
 "metadata": {
  "kernelspec": {
   "display_name": "Python 3",
   "language": "python",
   "name": "python3"
  },
  "language_info": {
   "codemirror_mode": {
    "name": "ipython",
    "version": 3
   },
   "file_extension": ".py",
   "mimetype": "text/x-python",
   "name": "python",
   "nbconvert_exporter": "python",
   "pygments_lexer": "ipython3",
   "version": "3.6.8"
  }
 },
 "nbformat": 4,
 "nbformat_minor": 2
}
